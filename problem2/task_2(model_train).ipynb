{
 "cells": [
  {
   "cell_type": "code",
   "execution_count": 1,
   "id": "d5611043",
   "metadata": {},
   "outputs": [],
   "source": [
    "from tensorflow import keras\n",
    "from tensorflow.keras.layers import Conv2DTranspose, ConvLSTM2D, BatchNormalization, TimeDistributed, Conv2D\n",
    "from tensorflow.keras.models import Sequential, load_model\n",
    "from tensorflow.keras.layers import LayerNormalization\n",
    "from os import listdir\n",
    "from os.path import isfile, join, isdir\n",
    "import numpy as np\n",
    "from PIL import Image\n",
    "import matplotlib.pyplot as plt"
   ]
  },
  {
   "cell_type": "code",
   "execution_count": 2,
   "id": "e8a9609b",
   "metadata": {},
   "outputs": [],
   "source": [
    "DATASET_PATH =\"F:\\\\Research database\\\\UCSD_Anomaly_Dataset.v1p2\\\\UCSDped1\\\\Train\"\n",
    "BATCH_SIZE = 2\n",
    "EPOCHS = 20"
   ]
  },
  {
   "cell_type": "code",
   "execution_count": 3,
   "id": "db09abea",
   "metadata": {},
   "outputs": [],
   "source": [
    "def get_clips_by_stride(stride, frames_list, sequence_size):\n",
    "    clips = []\n",
    "    sz = len(frames_list)\n",
    "    clip = np.zeros(shape=(sequence_size, 256, 256, 1))\n",
    "    cnt = 0\n",
    "    for start in range(0, stride):\n",
    "        for i in range(start, sz, stride):\n",
    "            clip[cnt, :, :, 0] = frames_list[i]\n",
    "            cnt = cnt + 1\n",
    "            if cnt == sequence_size:\n",
    "                clips.append(np.copy(clip))\n",
    "                cnt = 0\n",
    "    return clips\n",
    "\n",
    "def get_training_set():\n",
    "    clips = []\n",
    "    for f in sorted(listdir(DATASET_PATH)):\n",
    "        directory_path = join(DATASET_PATH, f)\n",
    "        if isdir(directory_path):\n",
    "            all_frames = []\n",
    "            for c in sorted(listdir(directory_path)):\n",
    "                img_path = join(directory_path, c)\n",
    "                if str(img_path)[-3:] == \"tif\":\n",
    "                    img = Image.open(img_path).resize((256, 256))\n",
    "                    img = np.array(img, dtype=np.float32) / 255.0 #normalize\n",
    "                    all_frames.append(img)\n",
    "            clips.extend(get_clips_by_stride(stride=1, frames_list=all_frames, sequence_size=5))\n",
    "    return clips"
   ]
  },
  {
   "cell_type": "code",
   "execution_count": null,
   "id": "62fa406a",
   "metadata": {},
   "outputs": [],
   "source": [
    "############################# convolutionLSTM Autoencoder ######################"
   ]
  },
  {
   "cell_type": "code",
   "execution_count": 4,
   "id": "3cb5071d",
   "metadata": {},
   "outputs": [
    {
     "name": "stdout",
     "output_type": "stream",
     "text": [
      "Model: \"sequential\"\n",
      "_________________________________________________________________\n",
      "Layer (type)                 Output Shape              Param #   \n",
      "=================================================================\n",
      "time_distributed (TimeDistri (None, 5, 64, 64, 64)     3200      \n",
      "_________________________________________________________________\n",
      "layer_normalization (LayerNo (None, 5, 64, 64, 64)     128       \n",
      "_________________________________________________________________\n",
      "time_distributed_1 (TimeDist (None, 5, 32, 32, 32)     51232     \n",
      "_________________________________________________________________\n",
      "layer_normalization_1 (Layer (None, 5, 32, 32, 32)     64        \n",
      "_________________________________________________________________\n",
      "conv_lst_m2d (ConvLSTM2D)    (None, 5, 32, 32, 32)     73856     \n",
      "_________________________________________________________________\n",
      "layer_normalization_2 (Layer (None, 5, 32, 32, 32)     64        \n",
      "_________________________________________________________________\n",
      "conv_lst_m2d_1 (ConvLSTM2D)  (None, 5, 32, 32, 16)     27712     \n",
      "_________________________________________________________________\n",
      "layer_normalization_3 (Layer (None, 5, 32, 32, 16)     32        \n",
      "_________________________________________________________________\n",
      "conv_lst_m2d_2 (ConvLSTM2D)  (None, 5, 32, 32, 32)     55424     \n",
      "_________________________________________________________________\n",
      "layer_normalization_4 (Layer (None, 5, 32, 32, 32)     64        \n",
      "_________________________________________________________________\n",
      "time_distributed_2 (TimeDist (None, 5, 64, 64, 32)     25632     \n",
      "_________________________________________________________________\n",
      "layer_normalization_5 (Layer (None, 5, 64, 64, 32)     64        \n",
      "_________________________________________________________________\n",
      "time_distributed_3 (TimeDist (None, 5, 256, 256, 64)   100416    \n",
      "_________________________________________________________________\n",
      "layer_normalization_6 (Layer (None, 5, 256, 256, 64)   128       \n",
      "_________________________________________________________________\n",
      "time_distributed_4 (TimeDist (None, 5, 256, 256, 1)    3137      \n",
      "=================================================================\n",
      "Total params: 341,153\n",
      "Trainable params: 341,153\n",
      "Non-trainable params: 0\n",
      "_________________________________________________________________\n"
     ]
    }
   ],
   "source": [
    "training_set = get_training_set()\n",
    "training_set = np.array(training_set)\n",
    "model = Sequential()\n",
    "### conv encoder ##\n",
    "model.add(TimeDistributed(Conv2D(64, (7, 7), strides=4, padding=\"same\"), batch_input_shape=(None, 5, 256, 256, 1)))\n",
    "model.add(LayerNormalization())\n",
    "model.add(TimeDistributed(Conv2D(32, (5, 5), strides=2, padding=\"same\")))\n",
    "model.add(LayerNormalization())\n",
    "\n",
    "model.add(ConvLSTM2D(32, (3, 3), padding=\"same\", return_sequences=True)) #temporal encoder\n",
    "model.add(LayerNormalization())\n",
    "model.add(ConvLSTM2D(16, (3, 3), padding=\"same\", return_sequences=True)) #bottleneck\n",
    "model.add(LayerNormalization())\n",
    "model.add(ConvLSTM2D(32, (3, 3), padding=\"same\", return_sequences=True)) #temporal decoder\n",
    "model.add(LayerNormalization())\n",
    "\n",
    "## conv decoder ##\n",
    "model.add(TimeDistributed(Conv2DTranspose(32, (5, 5), strides=2, padding=\"same\")))\n",
    "model.add(LayerNormalization())\n",
    "model.add(TimeDistributed(Conv2DTranspose(64, (7, 7), strides=4, padding=\"same\")))\n",
    "model.add(LayerNormalization())\n",
    "model.add(TimeDistributed(Conv2D(1, (7, 7), activation=\"sigmoid\", padding=\"same\")))\n",
    "\n",
    "model.summary()"
   ]
  },
  {
   "cell_type": "code",
   "execution_count": 5,
   "id": "51785ff0",
   "metadata": {},
   "outputs": [
    {
     "name": "stdout",
     "output_type": "stream",
     "text": [
      "Train on 1360 samples\n",
      "Epoch 1/20\n",
      "1360/1360 [==============================] - 241s 177ms/sample - loss: 0.0082 - mse: 0.0082\n",
      "Epoch 2/20\n",
      "1360/1360 [==============================] - 233s 171ms/sample - loss: 0.0032 - mse: 0.0032\n",
      "Epoch 3/20\n",
      "1360/1360 [==============================] - 233s 172ms/sample - loss: 0.0025 - mse: 0.0025\n",
      "Epoch 4/20\n",
      "1360/1360 [==============================] - 235s 173ms/sample - loss: 0.0021 - mse: 0.0021\n",
      "Epoch 5/20\n",
      "1360/1360 [==============================] - 233s 172ms/sample - loss: 0.0018 - mse: 0.0018\n",
      "Epoch 6/20\n",
      "1360/1360 [==============================] - 233s 172ms/sample - loss: 0.0016 - mse: 0.0016\n",
      "Epoch 7/20\n",
      "1360/1360 [==============================] - 233s 172ms/sample - loss: 0.0015 - mse: 0.0015\n",
      "Epoch 8/20\n",
      "1360/1360 [==============================] - 234s 172ms/sample - loss: 0.0014 - mse: 0.0014\n",
      "Epoch 9/20\n",
      "1360/1360 [==============================] - 233s 172ms/sample - loss: 0.0012 - mse: 0.0012\n",
      "Epoch 10/20\n",
      "1360/1360 [==============================] - 234s 172ms/sample - loss: 0.0012 - mse: 0.0012\n",
      "Epoch 11/20\n",
      "1360/1360 [==============================] - 233s 172ms/sample - loss: 0.0011 - mse: 0.0011\n",
      "Epoch 12/20\n",
      "1360/1360 [==============================] - 233s 172ms/sample - loss: 0.0010 - mse: 0.0010\n",
      "Epoch 13/20\n",
      "1360/1360 [==============================] - 234s 172ms/sample - loss: 9.8769e-04 - mse: 9.8769e-04\n",
      "Epoch 14/20\n",
      "1360/1360 [==============================] - 234s 172ms/sample - loss: 9.3723e-04 - mse: 9.3723e-04\n",
      "Epoch 15/20\n",
      "1360/1360 [==============================] - 234s 172ms/sample - loss: 9.0167e-04 - mse: 9.0167e-04\n",
      "Epoch 16/20\n",
      "1360/1360 [==============================] - 234s 172ms/sample - loss: 8.6828e-04 - mse: 8.6828e-04\n",
      "Epoch 17/20\n",
      "1360/1360 [==============================] - 233s 172ms/sample - loss: 8.3453e-04 - mse: 8.3453e-04\n",
      "Epoch 18/20\n",
      "1360/1360 [==============================] - 233s 172ms/sample - loss: 8.0547e-04 - mse: 8.0547e-04\n",
      "Epoch 19/20\n",
      "1360/1360 [==============================] - 233s 172ms/sample - loss: 7.7829e-04 - mse: 7.7829e-04\n",
      "Epoch 20/20\n",
      "1360/1360 [==============================] - 234s 172ms/sample - loss: 7.5343e-04 - mse: 7.5343e-04\n"
     ]
    }
   ],
   "source": [
    "model.compile(loss='mse', optimizer=keras.optimizers.Adam(lr=1e-4, decay=1e-5, epsilon=1e-6), metrics=['mse'])\n",
    "history = model.fit(training_set, training_set, batch_size=BATCH_SIZE, epochs=EPOCHS, shuffle=False)\n",
    "model.save('model.h5')"
   ]
  },
  {
   "cell_type": "code",
   "execution_count": 10,
   "id": "863f8048",
   "metadata": {},
   "outputs": [
    {
     "data": {
      "image/png": "[encoded data removed]",
      "text/plain": [
       "<Figure size 432x288 with 1 Axes>"
      ]
     },
     "metadata": {
      "needs_background": "light"
     },
     "output_type": "display_data"
    }
   ],
   "source": [
    "history_dict = history.history\n",
    "loss_values = history_dict['loss']\n",
    "epochs = range(1, len(loss_values) + 1)\n",
    "plt.plot(epochs, loss_values, label=\"loss\")\n",
    "plt.title(\"mse\")\n",
    "plt.xlabel('Epochs')\n",
    "plt.ylabel('loss')\n",
    "plt.legend()\n",
    "plt.savefig(\"Train_Vs_Validation_loss.jpeg\")\n",
    "plt.show()\n"
   ]
  },
  {
   "cell_type": "code",
   "execution_count": null,
   "id": "d16a441e",
   "metadata": {},
   "outputs": [],
   "source": []
  },
  {
   "cell_type": "code",
   "execution_count": null,
   "id": "141e05c6",
   "metadata": {},
   "outputs": [],
   "source": []
  },
  {
   "cell_type": "code",
   "execution_count": null,
   "id": "9d6db978",
   "metadata": {},
   "outputs": [],
   "source": []
  },
  {
   "cell_type": "code",
   "execution_count": null,
   "id": "9408abed",
   "metadata": {},
   "outputs": [],
   "source": []
  },
  {
   "cell_type": "code",
   "execution_count": null,
   "id": "5368b4f0",
   "metadata": {},
   "outputs": [],
   "source": []
  },
  {
   "cell_type": "code",
   "execution_count": null,
   "id": "12857000",
   "metadata": {},
   "outputs": [],
   "source": []
  },
  {
   "cell_type": "code",
   "execution_count": null,
   "id": "a6e807b1",
   "metadata": {},
   "outputs": [],
   "source": []
  },
  {
   "cell_type": "code",
   "execution_count": null,
   "id": "f999c7f8",
   "metadata": {},
   "outputs": [],
   "source": []
  },
  {
   "cell_type": "code",
   "execution_count": null,
   "id": "11aee3e7",
   "metadata": {},
   "outputs": [],
   "source": []
  },
  {
   "cell_type": "code",
   "execution_count": null,
   "id": "82bc3b0a",
   "metadata": {},
   "outputs": [],
   "source": []
  },
  {
   "cell_type": "code",
   "execution_count": null,
   "id": "3106e15b",
   "metadata": {},
   "outputs": [],
   "source": []
  },
  {
   "cell_type": "code",
   "execution_count": null,
   "id": "3f73dc90",
   "metadata": {},
   "outputs": [],
   "source": []
  },
  {
   "cell_type": "code",
   "execution_count": null,
   "id": "dec47add",
   "metadata": {},
   "outputs": [],
   "source": []
  },
  {
   "cell_type": "code",
   "execution_count": null,
   "id": "1d8dbbde",
   "metadata": {},
   "outputs": [],
   "source": []
  },
  {
   "cell_type": "code",
   "execution_count": null,
   "id": "fbc38fd1",
   "metadata": {},
   "outputs": [],
   "source": []
  },
  {
   "cell_type": "code",
   "execution_count": null,
   "id": "89804d4f",
   "metadata": {},
   "outputs": [],
   "source": []
  },
  {
   "cell_type": "code",
   "execution_count": null,
   "id": "9e4ce672",
   "metadata": {},
   "outputs": [],
   "source": []
  },
  {
   "cell_type": "code",
   "execution_count": null,
   "id": "1ef1f15a",
   "metadata": {},
   "outputs": [],
   "source": []
  },
  {
   "cell_type": "code",
   "execution_count": null,
   "id": "f94ea206",
   "metadata": {},
   "outputs": [],
   "source": []
  },
  {
   "cell_type": "code",
   "execution_count": null,
   "id": "9526297d",
   "metadata": {},
   "outputs": [],
   "source": []
  },
  {
   "cell_type": "code",
   "execution_count": null,
   "id": "61f4e34b",
   "metadata": {},
   "outputs": [],
   "source": []
  },
  {
   "cell_type": "code",
   "execution_count": null,
   "id": "f2f5d4b1",
   "metadata": {},
   "outputs": [],
   "source": []
  },
  {
   "cell_type": "code",
   "execution_count": null,
   "id": "f6046c83",
   "metadata": {},
   "outputs": [],
   "source": []
  },
  {
   "cell_type": "code",
   "execution_count": null,
   "id": "a5f649ea",
   "metadata": {},
   "outputs": [],
   "source": []
  },
  {
   "cell_type": "code",
   "execution_count": null,
   "id": "9c49b4b1",
   "metadata": {},
   "outputs": [],
   "source": []
  },
  {
   "cell_type": "code",
   "execution_count": null,
   "id": "2b6de803",
   "metadata": {},
   "outputs": [],
   "source": []
  },
  {
   "cell_type": "code",
   "execution_count": null,
   "id": "e9f6804e",
   "metadata": {},
   "outputs": [],
   "source": []
  }
 ],
 "metadata": {
  "kernelspec": {
   "display_name": "venvAI",
   "language": "python",
   "name": "venvai"
  },
  "language_info": {
   "codemirror_mode": {
    "name": "ipython",
    "version": 3
   },
   "file_extension": ".py",
   "mimetype": "text/x-python",
   "name": "python",
   "nbconvert_exporter": "python",
   "pygments_lexer": "ipython3",
   "version": "3.6.8"
  }
 },
 "nbformat": 4,
 "nbformat_minor": 5
}
