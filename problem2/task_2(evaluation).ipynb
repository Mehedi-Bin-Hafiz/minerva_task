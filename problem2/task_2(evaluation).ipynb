{
 "cells": [
  {
   "cell_type": "code",
   "execution_count": 1,
   "id": "475087bd",
   "metadata": {},
   "outputs": [],
   "source": [
    "from os import listdir\n",
    "from os.path import isfile, join, isdir\n",
    "import numpy as np\n",
    "from PIL import Image\n",
    "from tensorflow.keras.models import load_model\n",
    "from cv2 import cv2\n",
    "import time"
   ]
  },
  {
   "cell_type": "code",
   "execution_count": 2,
   "id": "367ed5fe",
   "metadata": {},
   "outputs": [],
   "source": [
    "SINGLE_TEST_PATH = \"F:\\\\Research database\\\\UCSD_Anomaly_Dataset.v1p2\\\\UCSDped1\\\\Test\\\\Test014\""
   ]
  },
  {
   "cell_type": "code",
   "execution_count": 3,
   "id": "14f45274",
   "metadata": {},
   "outputs": [],
   "source": [
    "all_cv2_image = list()\n",
    "def get_single_test(path):\n",
    "    sz = 200\n",
    "    test = np.zeros(shape=(sz, 256, 256, 1))\n",
    "    cnt = 0\n",
    "    for f in sorted(listdir(path)):\n",
    "        if str(join(path, f))[-3:] == \"tif\":\n",
    "            img = Image.open(join(path, f)).resize((256, 256))\n",
    "            opencvImage = cv2.cvtColor(np.array(img), cv2.COLOR_RGB2BGR)\n",
    "            all_cv2_image.append(cv2.resize(opencvImage, (500, 300)))\n",
    "            img = np.array(img, dtype=np.float32) / 255.0\n",
    "            test[cnt, :, :, 0] = img\n",
    "            cnt = cnt + 1\n",
    "    return test"
   ]
  },
  {
   "cell_type": "code",
   "execution_count": 4,
   "id": "c0da97e7",
   "metadata": {},
   "outputs": [],
   "source": [
    "\n",
    "model = load_model('model.h5')\n",
    "test = get_single_test(SINGLE_TEST_PATH)\n",
    "sz = test.shape[0] - 5\n",
    "sequences = np.zeros((sz, 5, 256, 256, 1))\n",
    "# apply the sliding window technique to get the sequences\n",
    "for i in range(0, sz):\n",
    "    clip = np.zeros((5, 256, 256, 1))\n",
    "    for j in range(0, 5):\n",
    "        clip[j] = test[i + j, :, :, :]\n",
    "    sequences[i] = clip\n",
    "reconstructed_sequences = model.predict(sequences,batch_size=10)\n",
    "sequences_reconstruction_cost = np.array([np.linalg.norm(np.subtract(sequences[i],reconstructed_sequences[i])) for i in range(0,sz)])\n",
    "sa = (sequences_reconstruction_cost - np.min(sequences_reconstruction_cost)) / np.max(sequences_reconstruction_cost)\n",
    "sr = 1.0 - sa"
   ]
  },
  {
   "cell_type": "code",
   "execution_count": 5,
   "id": "943313ba",
   "metadata": {},
   "outputs": [],
   "source": [
    "# sr"
   ]
  },
  {
   "cell_type": "code",
   "execution_count": 6,
   "id": "e2e442dd",
   "metadata": {},
   "outputs": [],
   "source": [
    "# anomaly_mean = np.mean(sr)\n",
    "anomaly_mean = 0.92"
   ]
  },
  {
   "cell_type": "markdown",
   "id": "2f4c029f",
   "metadata": {},
   "source": [
    "##  anomaly visualization"
   ]
  },
  {
   "cell_type": "code",
   "execution_count": 11,
   "id": "e4cb4edb",
   "metadata": {},
   "outputs": [],
   "source": [
    "for i in range(len(sr)):\n",
    "    if sr[i] < anomaly_mean:\n",
    "        new_image = cv2.putText(img = all_cv2_image[i],text = \"Anomaly Detected\", org = (50, 70),\n",
    "                                fontFace = cv2.FONT_HERSHEY_DUPLEX,fontScale = 1.0,\n",
    "                                color = (0, 255, 0),thickness = 2)\n",
    "    cv2.imshow('Video',all_cv2_image[i])\n",
    "    time.sleep(0.09)\n",
    "    cv2.waitKey(1)\n",
    "cv2.destroyAllWindows()"
   ]
  },
  {
   "cell_type": "code",
   "execution_count": null,
   "id": "fb15b077",
   "metadata": {},
   "outputs": [],
   "source": []
  },
  {
   "cell_type": "code",
   "execution_count": null,
   "id": "23f5f009",
   "metadata": {},
   "outputs": [],
   "source": []
  }
 ],
 "metadata": {
  "kernelspec": {
   "display_name": "venvAI",
   "language": "python",
   "name": "venvai"
  },
  "language_info": {
   "codemirror_mode": {
    "name": "ipython",
    "version": 3
   },
   "file_extension": ".py",
   "mimetype": "text/x-python",
   "name": "python",
   "nbconvert_exporter": "python",
   "pygments_lexer": "ipython3",
   "version": "3.6.8"
  }
 },
 "nbformat": 4,
 "nbformat_minor": 5
}
