{
 "cells": [
  {
   "cell_type": "code",
   "execution_count": 1,
   "id": "6b6d01e7",
   "metadata": {},
   "outputs": [],
   "source": [
    "import pandas as pd\n",
    "df_1 = pd.read_json('../Copy of vehiclePosition01.json')\n",
    "df_2 = pd.read_json('../Copy of vehiclePosition02.json')"
   ]
  },
  {
   "cell_type": "code",
   "execution_count": 2,
   "id": "ee71a752",
   "metadata": {},
   "outputs": [
    {
     "data": {
      "text/plain": [
       "0       {'time': '1630914886924', 'Responses': [{'line...\n",
       "1       {'time': '1630914917746', 'Responses': [{'line...\n",
       "2       {'time': '1630914948365', 'Responses': [{'line...\n",
       "3       {'time': '1630914978881', 'Responses': [{'line...\n",
       "4       {'time': '1630915011138', 'Responses': [{'line...\n",
       "                              ...                        \n",
       "8009    {'time': '1631177458194', 'Responses': [{'line...\n",
       "8010    {'time': '1631177489631', 'Responses': [{'line...\n",
       "8011    {'time': '1631177520761', 'Responses': [{'line...\n",
       "8012    {'time': '1631177552199', 'Responses': [{'line...\n",
       "8013    {'time': '1631177582824', 'Responses': [{'line...\n",
       "Name: data, Length: 8014, dtype: object"
      ]
     },
     "execution_count": 2,
     "metadata": {},
     "output_type": "execute_result"
    }
   ],
   "source": [
    "contcate_df = pd.concat([df_1, df_2], axis=0,ignore_index=True).data\n",
    "contcate_df"
   ]
  },
  {
   "cell_type": "code",
   "execution_count": 3,
   "id": "3eb7484f",
   "metadata": {},
   "outputs": [
    {
     "data": {
      "text/plain": [
       "{'lineId': '2',\n",
       " 'vehiclePositions': [{'directionId': '8763',\n",
       "   'distanceFromPoint': 0,\n",
       "   'pointId': '8401'},\n",
       "  {'directionId': '8472', 'distanceFromPoint': 1, 'pointId': '8332'},\n",
       "  {'directionId': '8763', 'distanceFromPoint': 0, 'pointId': '8441'},\n",
       "  {'directionId': '8763', 'distanceFromPoint': 0, 'pointId': '8743'},\n",
       "  {'directionId': '8472', 'distanceFromPoint': 1, 'pointId': '8442'},\n",
       "  {'directionId': '8472', 'distanceFromPoint': 0, 'pointId': '8754'},\n",
       "  {'directionId': '8763', 'distanceFromPoint': 1, 'pointId': '8341'},\n",
       "  {'directionId': '8472', 'distanceFromPoint': 0, 'pointId': '8302'},\n",
       "  {'directionId': '8763', 'distanceFromPoint': 0, 'pointId': '8472'}]}"
      ]
     },
     "execution_count": 3,
     "metadata": {},
     "output_type": "execute_result"
    }
   ],
   "source": [
    "contcate_df[0]['Responses'][0]['lines'][1]"
   ]
  },
  {
   "cell_type": "code",
   "execution_count": 4,
   "id": "753af4b7",
   "metadata": {},
   "outputs": [
    {
     "name": "stdout",
     "output_type": "stream",
     "text": [
      "1631177582.824\n",
      "Date = 2021-09-09\n"
     ]
    }
   ],
   "source": [
    "timestamp = int(contcate_df[8013]['time'])\n",
    "timestamp = int(timestamp)/1000 #milliseconds timestamp\n",
    "print(timestamp)\n",
    "from datetime import date\n",
    "timestamp = date.fromtimestamp(timestamp)\n",
    "print(\"Date =\", timestamp)\n"
   ]
  },
  {
   "cell_type": "code",
   "execution_count": 6,
   "id": "c62517ed",
   "metadata": {},
   "outputs": [],
   "source": [
    "line_id = contcate_df[0]['Responses'][0]['lines'][0]['lineId']"
   ]
  },
  {
   "cell_type": "code",
   "execution_count": 26,
   "id": "7dc14fdf",
   "metadata": {},
   "outputs": [],
   "source": [
    "import os\n",
    "export_df = pd.DataFrame(contcate_df[0]['Responses'][0]['lines'][0]['vehiclePositions'])\n",
    "export_df.to_csv(f'{line_id}.csv',mode='a',index=False,  header=not os.path.exists(f'{line_id}.csv')) "
   ]
  },
  {
   "cell_type": "code",
   "execution_count": 46,
   "id": "342417f4",
   "metadata": {},
   "outputs": [],
   "source": [
    "timestamp = int(contcate_df[8013]['time'])\n",
    "timestamp = int(timestamp)/1000 #milliseconds timestamp\n",
    "from datetime import date\n",
    "extract_date = date.fromtimestamp(timestamp)\n",
    "date_path = f'../output_prob1_task1/{extract_date}'\n",
    "if not os.path.exists(date_path):\n",
    "    os.makedirs(date_path)\n",
    "export_df = pd.DataFrame(contcate_df[0]['Responses'][0]['lines'][0]['vehiclePositions'])\n",
    "line_id_path = f'{date_path}/{line_id}.csv'\n",
    "export_df.to_csv(line_id_path,mode='a',index=False,  header=not os.path.exists(line_id_path)) "
   ]
  },
  {
   "cell_type": "code",
   "execution_count": 1,
   "id": "2dbd6669",
   "metadata": {},
   "outputs": [],
   "source": [
    "########### making final function #############\n",
    "from datetime import date\n",
    "import os\n",
    "import pandas as pd "
   ]
  },
  {
   "cell_type": "code",
   "execution_count": 2,
   "id": "7c1be7db",
   "metadata": {},
   "outputs": [
    {
     "data": {
      "text/html": [
       "<div>\n",
       "<style scoped>\n",
       "    .dataframe tbody tr th:only-of-type {\n",
       "        vertical-align: middle;\n",
       "    }\n",
       "\n",
       "    .dataframe tbody tr th {\n",
       "        vertical-align: top;\n",
       "    }\n",
       "\n",
       "    .dataframe thead th {\n",
       "        text-align: right;\n",
       "    }\n",
       "</style>\n",
       "<table border=\"1\" class=\"dataframe\">\n",
       "  <thead>\n",
       "    <tr style=\"text-align: right;\">\n",
       "      <th></th>\n",
       "      <th>data</th>\n",
       "    </tr>\n",
       "  </thead>\n",
       "  <tbody>\n",
       "    <tr>\n",
       "      <th>0</th>\n",
       "      <td>{'time': '1630914886924', 'Responses': [{'line...</td>\n",
       "    </tr>\n",
       "    <tr>\n",
       "      <th>1</th>\n",
       "      <td>{'time': '1630914917746', 'Responses': [{'line...</td>\n",
       "    </tr>\n",
       "  </tbody>\n",
       "</table>\n",
       "</div>"
      ],
      "text/plain": [
       "                                                data\n",
       "0  {'time': '1630914886924', 'Responses': [{'line...\n",
       "1  {'time': '1630914917746', 'Responses': [{'line..."
      ]
     },
     "execution_count": 2,
     "metadata": {},
     "output_type": "execute_result"
    }
   ],
   "source": [
    "df_1 = pd.read_json('../Copy of vehiclePosition01.json')\n",
    "df_2 = pd.read_json('../Copy of vehiclePosition02.json')\n",
    "contcate_df = pd.concat([df_1, df_2], axis=0,ignore_index=True)\n",
    "contcate_df.head(2)"
   ]
  },
  {
   "cell_type": "code",
   "execution_count": null,
   "id": "e092accc",
   "metadata": {},
   "outputs": [],
   "source": [
    "def csv_generator(data_dcit):\n",
    "    timestamp = int(contcate_df[8013]['time'])\n",
    "    timestamp = int(timestamp)/1000"
   ]
  },
  {
   "cell_type": "code",
   "execution_count": null,
   "id": "284f7faf",
   "metadata": {},
   "outputs": [],
   "source": []
  },
  {
   "cell_type": "code",
   "execution_count": null,
   "id": "412b2020",
   "metadata": {},
   "outputs": [],
   "source": []
  },
  {
   "cell_type": "code",
   "execution_count": null,
   "id": "bb68a150",
   "metadata": {},
   "outputs": [],
   "source": []
  },
  {
   "cell_type": "code",
   "execution_count": null,
   "id": "80fda80b",
   "metadata": {},
   "outputs": [],
   "source": []
  }
 ],
 "metadata": {
  "kernelspec": {
   "display_name": "venvAI",
   "language": "python",
   "name": "venvai"
  },
  "language_info": {
   "codemirror_mode": {
    "name": "ipython",
    "version": 3
   },
   "file_extension": ".py",
   "mimetype": "text/x-python",
   "name": "python",
   "nbconvert_exporter": "python",
   "pygments_lexer": "ipython3",
   "version": "3.6.8"
  }
 },
 "nbformat": 4,
 "nbformat_minor": 5
}
