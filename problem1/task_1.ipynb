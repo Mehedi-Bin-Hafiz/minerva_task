{
 "cells": [
  {
   "cell_type": "code",
   "execution_count": 1,
   "id": "bb2935b9",
   "metadata": {},
   "outputs": [],
   "source": [
    "import pandas as pd\n",
    "df_1 = pd.read_json('../Copy of vehiclePosition01.json')\n",
    "df_2 = pd.read_json('../Copy of vehiclePosition02.json')"
   ]
  },
  {
   "cell_type": "code",
   "execution_count": 2,
   "id": "d166d47e",
   "metadata": {},
   "outputs": [
    {
     "data": {
      "text/plain": [
       "0       {'time': '1630914886924', 'Responses': [{'line...\n",
       "1       {'time': '1630914917746', 'Responses': [{'line...\n",
       "2       {'time': '1630914948365', 'Responses': [{'line...\n",
       "3       {'time': '1630914978881', 'Responses': [{'line...\n",
       "4       {'time': '1630915011138', 'Responses': [{'line...\n",
       "                              ...                        \n",
       "8009    {'time': '1631177458194', 'Responses': [{'line...\n",
       "8010    {'time': '1631177489631', 'Responses': [{'line...\n",
       "8011    {'time': '1631177520761', 'Responses': [{'line...\n",
       "8012    {'time': '1631177552199', 'Responses': [{'line...\n",
       "8013    {'time': '1631177582824', 'Responses': [{'line...\n",
       "Name: data, Length: 8014, dtype: object"
      ]
     },
     "execution_count": 2,
     "metadata": {},
     "output_type": "execute_result"
    }
   ],
   "source": [
    "contcate_df = pd.concat([df_1, df_2], axis=0,ignore_index=True).data\n",
    "contcate_df"
   ]
  },
  {
   "cell_type": "code",
   "execution_count": 37,
   "id": "82445f5e",
   "metadata": {},
   "outputs": [
    {
     "ename": "KeyError",
     "evalue": "0",
     "output_type": "error",
     "traceback": [
      "\u001b[1;31m---------------------------------------------------------------------------\u001b[0m",
      "\u001b[1;31mKeyError\u001b[0m                                  Traceback (most recent call last)",
      "\u001b[1;32m~\\PycharmProjects\\AIEnvironment\\venvAI\\lib\\site-packages\\pandas\\core\\indexes\\base.py\u001b[0m in \u001b[0;36mget_loc\u001b[1;34m(self, key, method, tolerance)\u001b[0m\n\u001b[0;32m   2897\u001b[0m             \u001b[1;32mtry\u001b[0m\u001b[1;33m:\u001b[0m\u001b[1;33m\u001b[0m\u001b[1;33m\u001b[0m\u001b[0m\n\u001b[1;32m-> 2898\u001b[1;33m                 \u001b[1;32mreturn\u001b[0m \u001b[0mself\u001b[0m\u001b[1;33m.\u001b[0m\u001b[0m_engine\u001b[0m\u001b[1;33m.\u001b[0m\u001b[0mget_loc\u001b[0m\u001b[1;33m(\u001b[0m\u001b[0mcasted_key\u001b[0m\u001b[1;33m)\u001b[0m\u001b[1;33m\u001b[0m\u001b[1;33m\u001b[0m\u001b[0m\n\u001b[0m\u001b[0;32m   2899\u001b[0m             \u001b[1;32mexcept\u001b[0m \u001b[0mKeyError\u001b[0m \u001b[1;32mas\u001b[0m \u001b[0merr\u001b[0m\u001b[1;33m:\u001b[0m\u001b[1;33m\u001b[0m\u001b[1;33m\u001b[0m\u001b[0m\n",
      "\u001b[1;32mpandas\\_libs\\index.pyx\u001b[0m in \u001b[0;36mpandas._libs.index.IndexEngine.get_loc\u001b[1;34m()\u001b[0m\n",
      "\u001b[1;32mpandas\\_libs\\index.pyx\u001b[0m in \u001b[0;36mpandas._libs.index.IndexEngine.get_loc\u001b[1;34m()\u001b[0m\n",
      "\u001b[1;32mpandas\\_libs\\hashtable_class_helper.pxi\u001b[0m in \u001b[0;36mpandas._libs.hashtable.PyObjectHashTable.get_item\u001b[1;34m()\u001b[0m\n",
      "\u001b[1;32mpandas\\_libs\\hashtable_class_helper.pxi\u001b[0m in \u001b[0;36mpandas._libs.hashtable.PyObjectHashTable.get_item\u001b[1;34m()\u001b[0m\n",
      "\u001b[1;31mKeyError\u001b[0m: 0",
      "\nThe above exception was the direct cause of the following exception:\n",
      "\u001b[1;31mKeyError\u001b[0m                                  Traceback (most recent call last)",
      "\u001b[1;32m<ipython-input-37-247546154f6c>\u001b[0m in \u001b[0;36m<module>\u001b[1;34m\u001b[0m\n\u001b[1;32m----> 1\u001b[1;33m \u001b[0mcontcate_df\u001b[0m\u001b[1;33m[\u001b[0m\u001b[1;36m0\u001b[0m\u001b[1;33m]\u001b[0m\u001b[1;33m[\u001b[0m\u001b[1;34m'Responses'\u001b[0m\u001b[1;33m]\u001b[0m\u001b[1;33m[\u001b[0m\u001b[1;36m0\u001b[0m\u001b[1;33m]\u001b[0m\u001b[1;33m[\u001b[0m\u001b[1;34m'lines'\u001b[0m\u001b[1;33m]\u001b[0m\u001b[1;33m\u001b[0m\u001b[1;33m\u001b[0m\u001b[0m\n\u001b[0m",
      "\u001b[1;32m~\\PycharmProjects\\AIEnvironment\\venvAI\\lib\\site-packages\\pandas\\core\\frame.py\u001b[0m in \u001b[0;36m__getitem__\u001b[1;34m(self, key)\u001b[0m\n\u001b[0;32m   2904\u001b[0m             \u001b[1;32mif\u001b[0m \u001b[0mself\u001b[0m\u001b[1;33m.\u001b[0m\u001b[0mcolumns\u001b[0m\u001b[1;33m.\u001b[0m\u001b[0mnlevels\u001b[0m \u001b[1;33m>\u001b[0m \u001b[1;36m1\u001b[0m\u001b[1;33m:\u001b[0m\u001b[1;33m\u001b[0m\u001b[1;33m\u001b[0m\u001b[0m\n\u001b[0;32m   2905\u001b[0m                 \u001b[1;32mreturn\u001b[0m \u001b[0mself\u001b[0m\u001b[1;33m.\u001b[0m\u001b[0m_getitem_multilevel\u001b[0m\u001b[1;33m(\u001b[0m\u001b[0mkey\u001b[0m\u001b[1;33m)\u001b[0m\u001b[1;33m\u001b[0m\u001b[1;33m\u001b[0m\u001b[0m\n\u001b[1;32m-> 2906\u001b[1;33m             \u001b[0mindexer\u001b[0m \u001b[1;33m=\u001b[0m \u001b[0mself\u001b[0m\u001b[1;33m.\u001b[0m\u001b[0mcolumns\u001b[0m\u001b[1;33m.\u001b[0m\u001b[0mget_loc\u001b[0m\u001b[1;33m(\u001b[0m\u001b[0mkey\u001b[0m\u001b[1;33m)\u001b[0m\u001b[1;33m\u001b[0m\u001b[1;33m\u001b[0m\u001b[0m\n\u001b[0m\u001b[0;32m   2907\u001b[0m             \u001b[1;32mif\u001b[0m \u001b[0mis_integer\u001b[0m\u001b[1;33m(\u001b[0m\u001b[0mindexer\u001b[0m\u001b[1;33m)\u001b[0m\u001b[1;33m:\u001b[0m\u001b[1;33m\u001b[0m\u001b[1;33m\u001b[0m\u001b[0m\n\u001b[0;32m   2908\u001b[0m                 \u001b[0mindexer\u001b[0m \u001b[1;33m=\u001b[0m \u001b[1;33m[\u001b[0m\u001b[0mindexer\u001b[0m\u001b[1;33m]\u001b[0m\u001b[1;33m\u001b[0m\u001b[1;33m\u001b[0m\u001b[0m\n",
      "\u001b[1;32m~\\PycharmProjects\\AIEnvironment\\venvAI\\lib\\site-packages\\pandas\\core\\indexes\\base.py\u001b[0m in \u001b[0;36mget_loc\u001b[1;34m(self, key, method, tolerance)\u001b[0m\n\u001b[0;32m   2898\u001b[0m                 \u001b[1;32mreturn\u001b[0m \u001b[0mself\u001b[0m\u001b[1;33m.\u001b[0m\u001b[0m_engine\u001b[0m\u001b[1;33m.\u001b[0m\u001b[0mget_loc\u001b[0m\u001b[1;33m(\u001b[0m\u001b[0mcasted_key\u001b[0m\u001b[1;33m)\u001b[0m\u001b[1;33m\u001b[0m\u001b[1;33m\u001b[0m\u001b[0m\n\u001b[0;32m   2899\u001b[0m             \u001b[1;32mexcept\u001b[0m \u001b[0mKeyError\u001b[0m \u001b[1;32mas\u001b[0m \u001b[0merr\u001b[0m\u001b[1;33m:\u001b[0m\u001b[1;33m\u001b[0m\u001b[1;33m\u001b[0m\u001b[0m\n\u001b[1;32m-> 2900\u001b[1;33m                 \u001b[1;32mraise\u001b[0m \u001b[0mKeyError\u001b[0m\u001b[1;33m(\u001b[0m\u001b[0mkey\u001b[0m\u001b[1;33m)\u001b[0m \u001b[1;32mfrom\u001b[0m \u001b[0merr\u001b[0m\u001b[1;33m\u001b[0m\u001b[1;33m\u001b[0m\u001b[0m\n\u001b[0m\u001b[0;32m   2901\u001b[0m \u001b[1;33m\u001b[0m\u001b[0m\n\u001b[0;32m   2902\u001b[0m         \u001b[1;32mif\u001b[0m \u001b[0mtolerance\u001b[0m \u001b[1;32mis\u001b[0m \u001b[1;32mnot\u001b[0m \u001b[1;32mNone\u001b[0m\u001b[1;33m:\u001b[0m\u001b[1;33m\u001b[0m\u001b[1;33m\u001b[0m\u001b[0m\n",
      "\u001b[1;31mKeyError\u001b[0m: 0"
     ]
    }
   ],
   "source": [
    "contcate_df[0]['Responses'][0]['lines']"
   ]
  },
  {
   "cell_type": "code",
   "execution_count": 4,
   "id": "0e70b9c3",
   "metadata": {},
   "outputs": [
    {
     "name": "stdout",
     "output_type": "stream",
     "text": [
      "1631177582.824\n",
      "Date = 2021-09-09\n"
     ]
    }
   ],
   "source": [
    "timestamp = int(contcate_df[8013]['time'])\n",
    "timestamp = int(timestamp)/1000 #milliseconds timestamp\n",
    "print(timestamp)\n",
    "from datetime import date\n",
    "timestamp = date.fromtimestamp(timestamp)\n",
    "print(\"Date =\", timestamp)\n"
   ]
  },
  {
   "cell_type": "code",
   "execution_count": 6,
   "id": "3f298c67",
   "metadata": {},
   "outputs": [],
   "source": [
    " "
   ]
  },
  {
   "cell_type": "code",
   "execution_count": 26,
   "id": "1f4fd6a4",
   "metadata": {},
   "outputs": [],
   "source": [
    "import os\n",
    "export_df = pd.DataFrame(contcate_df[0]['Responses'][0]['lines'][0]['vehiclePositions'])\n",
    "export_df.to_csv(f'{line_id}.csv',mode='a',index=False,  header=not os.path.exists(f'{line_id}.csv')) "
   ]
  },
  {
   "cell_type": "code",
   "execution_count": 46,
   "id": "a58e75ca",
   "metadata": {},
   "outputs": [],
   "source": [
    "timestamp = int(contcate_df[8013]['time'])\n",
    "timestamp = int(timestamp)/1000 #milliseconds timestamp\n",
    "from datetime import date\n",
    "extract_date = date.fromtimestamp(timestamp)\n",
    "date_path = f'../output_prob1_task1/{extract_date}'\n",
    "if not os.path.exists(date_path):\n",
    "    os.makedirs(date_path)\n",
    "export_df = pd.DataFrame(contcate_df[0]['Responses'][0]['lines'][0]['vehiclePositions'])\n",
    "line_id_path = f'{date_path}/{line_id}.csv'\n",
    "export_df.to_csv(line_id_path,mode='a',index=False,  header=not os.path.exists(line_id_path)) "
   ]
  },
  {
   "cell_type": "code",
   "execution_count": null,
   "id": "ee216966",
   "metadata": {},
   "outputs": [],
   "source": [
    "for line in test_df['Responses'][0]['lines']:\n",
    "    line_id = line['lineId']\n",
    "    vehicle_pos_df = pd.DataFrame(line['vehiclePositions'])\n",
    "    print(line_id)\n",
    "    print(vehicle_pos_df)"
   ]
  },
  {
   "cell_type": "code",
   "execution_count": 1,
   "id": "554ad8a1",
   "metadata": {},
   "outputs": [],
   "source": [
    "########### making final function #############\n",
    "from datetime import date\n",
    "import os\n",
    "import pandas as pd "
   ]
  },
  {
   "cell_type": "code",
   "execution_count": 2,
   "id": "1b702226",
   "metadata": {},
   "outputs": [
    {
     "data": {
      "text/html": [
       "<div>\n",
       "<style scoped>\n",
       "    .dataframe tbody tr th:only-of-type {\n",
       "        vertical-align: middle;\n",
       "    }\n",
       "\n",
       "    .dataframe tbody tr th {\n",
       "        vertical-align: top;\n",
       "    }\n",
       "\n",
       "    .dataframe thead th {\n",
       "        text-align: right;\n",
       "    }\n",
       "</style>\n",
       "<table border=\"1\" class=\"dataframe\">\n",
       "  <thead>\n",
       "    <tr style=\"text-align: right;\">\n",
       "      <th></th>\n",
       "      <th>data</th>\n",
       "    </tr>\n",
       "  </thead>\n",
       "  <tbody>\n",
       "    <tr>\n",
       "      <th>0</th>\n",
       "      <td>{'time': '1630914886924', 'Responses': [{'line...</td>\n",
       "    </tr>\n",
       "    <tr>\n",
       "      <th>1</th>\n",
       "      <td>{'time': '1630914917746', 'Responses': [{'line...</td>\n",
       "    </tr>\n",
       "  </tbody>\n",
       "</table>\n",
       "</div>"
      ],
      "text/plain": [
       "                                                data\n",
       "0  {'time': '1630914886924', 'Responses': [{'line...\n",
       "1  {'time': '1630914917746', 'Responses': [{'line..."
      ]
     },
     "execution_count": 2,
     "metadata": {},
     "output_type": "execute_result"
    }
   ],
   "source": [
    "df_1 = pd.read_json('../Copy of vehiclePosition01.json')\n",
    "df_2 = pd.read_json('../Copy of vehiclePosition02.json')\n",
    "contcate_df = pd.concat([df_1, df_2], axis=0,ignore_index=True)\n",
    "contcate_df.head(2)"
   ]
  },
  {
   "cell_type": "code",
   "execution_count": 89,
   "id": "a90db2ce",
   "metadata": {},
   "outputs": [],
   "source": [
    "def csv_generator(data_dcit):\n",
    "    timestamp = int(data_dcit['time'])\n",
    "    timestamp = int(timestamp)/1000\n",
    "    extract_date = date.fromtimestamp(timestamp)\n",
    "    date_path = f'../output_prob1_task1/{extract_date}'\n",
    "    if not os.path.exists(date_path):\n",
    "        os.makedirs(date_path)\n",
    "    for lines in data_dcit['Responses']:\n",
    "        for line in lines['lines']:\n",
    "            line_id = line['lineId']\n",
    "            vehicle_pos_df = pd.DataFrame(line['vehiclePositions'])\n",
    "            line_id_path = f'{date_path}/{line_id}.csv'\n",
    "            vehicle_pos_df.to_csv(line_id_path,mode='a',index=False,  header=not os.path.exists(line_id_path))"
   ]
  },
  {
   "cell_type": "code",
   "execution_count": 91,
   "id": "5921ee88",
   "metadata": {},
   "outputs": [],
   "source": [
    "application = contcate_df.data.head(2).apply(lambda x : csv_generator(x))"
   ]
  },
  {
   "cell_type": "code",
   "execution_count": 83,
   "id": "d3e8517b",
   "metadata": {},
   "outputs": [],
   "source": [
    "test_df = contcate_df.data[0]"
   ]
  },
  {
   "cell_type": "code",
   "execution_count": 92,
   "id": "3a85dd2e",
   "metadata": {
    "scrolled": false
   },
   "outputs": [],
   "source": [
    "for value in test_df['Responses']:\n",
    "    for line in value['lines']:\n",
    "        line_id = line['lineId']\n",
    "        print(line_id)\n",
    "        vehicle_pos_df = pd.DataFrame(line['vehiclePositions'])\n",
    "        print(vehicle_pos_df)"
   ]
  },
  {
   "cell_type": "code",
   "execution_count": 93,
   "id": "97b0b2ab",
   "metadata": {},
   "outputs": [],
   "source": [
    "test_df['Responses']"
   ]
  }
 ],
 "metadata": {
  "kernelspec": {
   "display_name": "venvAI",
   "language": "python",
   "name": "venvai"
  },
  "language_info": {
   "codemirror_mode": {
    "name": "ipython",
    "version": 3
   },
   "file_extension": ".py",
   "mimetype": "text/x-python",
   "name": "python",
   "nbconvert_exporter": "python",
   "pygments_lexer": "ipython3",
   "version": "3.6.8"
  }
 },
 "nbformat": 4,
 "nbformat_minor": 5
}
