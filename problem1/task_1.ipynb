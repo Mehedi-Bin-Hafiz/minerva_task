{
 "cells": [
  {
   "cell_type": "code",
   "execution_count": 1,
   "id": "cc36c398",
   "metadata": {},
   "outputs": [],
   "source": [
    "import os\n",
    "import pandas as pd \n",
    "from datetime import date"
   ]
  },
  {
   "cell_type": "code",
   "execution_count": 2,
   "id": "f2cec33e",
   "metadata": {},
   "outputs": [
    {
     "data": {
      "text/html": [
       "<div>\n",
       "<style scoped>\n",
       "    .dataframe tbody tr th:only-of-type {\n",
       "        vertical-align: middle;\n",
       "    }\n",
       "\n",
       "    .dataframe tbody tr th {\n",
       "        vertical-align: top;\n",
       "    }\n",
       "\n",
       "    .dataframe thead th {\n",
       "        text-align: right;\n",
       "    }\n",
       "</style>\n",
       "<table border=\"1\" class=\"dataframe\">\n",
       "  <thead>\n",
       "    <tr style=\"text-align: right;\">\n",
       "      <th></th>\n",
       "      <th>data</th>\n",
       "    </tr>\n",
       "  </thead>\n",
       "  <tbody>\n",
       "    <tr>\n",
       "      <th>0</th>\n",
       "      <td>{'time': '1630914886924', 'Responses': [{'line...</td>\n",
       "    </tr>\n",
       "    <tr>\n",
       "      <th>1</th>\n",
       "      <td>{'time': '1630914917746', 'Responses': [{'line...</td>\n",
       "    </tr>\n",
       "  </tbody>\n",
       "</table>\n",
       "</div>"
      ],
      "text/plain": [
       "                                                data\n",
       "0  {'time': '1630914886924', 'Responses': [{'line...\n",
       "1  {'time': '1630914917746', 'Responses': [{'line..."
      ]
     },
     "execution_count": 2,
     "metadata": {},
     "output_type": "execute_result"
    }
   ],
   "source": [
    "df_1 = pd.read_json('../Copy of vehiclePosition01.json')\n",
    "df_2 = pd.read_json('../Copy of vehiclePosition02.json')\n",
    "contcate_df = pd.concat([df_1, df_2], axis=0,ignore_index=True)\n",
    "contcate_df.head(2)"
   ]
  },
  {
   "cell_type": "code",
   "execution_count": 3,
   "id": "eae67332",
   "metadata": {},
   "outputs": [],
   "source": [
    "def csv_generator(data_dcit):\n",
    "    try:\n",
    "        timestamp = int(data_dcit['time'])\n",
    "        timestamp = int(timestamp)/1000\n",
    "        extract_date = date.fromtimestamp(timestamp)\n",
    "        date_path = f'../output_prob1_task1/{extract_date}'\n",
    "        if not os.path.exists(date_path):\n",
    "            os.makedirs(date_path)\n",
    "        for lines in data_dcit['Responses']:\n",
    "            for line in lines['lines']:\n",
    "                line_id = line['lineId']\n",
    "                vehicle_pos_df = pd.DataFrame(line['vehiclePositions'])\n",
    "                line_id_path = f'{date_path}/{line_id}.csv'\n",
    "                vehicle_pos_df.to_csv(line_id_path,mode='a',index=False,  header=not os.path.exists(line_id_path))\n",
    "    except:\n",
    "        pass"
   ]
  },
  {
   "cell_type": "code",
   "execution_count": 4,
   "id": "fff1617b",
   "metadata": {},
   "outputs": [],
   "source": [
    "application = contcate_df.data.apply(lambda x : csv_generator(x))"
   ]
  },
  {
   "cell_type": "code",
   "execution_count": null,
   "id": "b37aae31",
   "metadata": {},
   "outputs": [],
   "source": []
  },
  {
   "cell_type": "code",
   "execution_count": null,
   "id": "a7022e03",
   "metadata": {
    "scrolled": false
   },
   "outputs": [],
   "source": []
  },
  {
   "cell_type": "code",
   "execution_count": null,
   "id": "b40ffe8f",
   "metadata": {},
   "outputs": [],
   "source": []
  }
 ],
 "metadata": {
  "kernelspec": {
   "display_name": "venvAI",
   "language": "python",
   "name": "venvai"
  },
  "language_info": {
   "codemirror_mode": {
    "name": "ipython",
    "version": 3
   },
   "file_extension": ".py",
   "mimetype": "text/x-python",
   "name": "python",
   "nbconvert_exporter": "python",
   "pygments_lexer": "ipython3",
   "version": "3.6.8"
  }
 },
 "nbformat": 4,
 "nbformat_minor": 5
}
