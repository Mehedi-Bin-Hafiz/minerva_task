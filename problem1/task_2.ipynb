{
 "cells": [
  {
   "cell_type": "code",
   "execution_count": 1,
   "id": "fb03ddda",
   "metadata": {},
   "outputs": [],
   "source": [
    "import pandas as pd \n",
    "stop_time_df = pd.read_csv('../Copy of stop_times.txt')"
   ]
  },
  {
   "cell_type": "code",
   "execution_count": 2,
   "id": "ce205e62",
   "metadata": {},
   "outputs": [
    {
     "name": "stdout",
     "output_type": "stream",
     "text": [
      "unique vahicles are  135249\n"
     ]
    }
   ],
   "source": [
    "print('unique vahicles are ', len(set(stop_time_df.trip_id)))"
   ]
  },
  {
   "cell_type": "code",
   "execution_count": 28,
   "id": "f5b20c6d",
   "metadata": {},
   "outputs": [
    {
     "data": {
      "text/html": [
       "<div>\n",
       "<style scoped>\n",
       "    .dataframe tbody tr th:only-of-type {\n",
       "        vertical-align: middle;\n",
       "    }\n",
       "\n",
       "    .dataframe tbody tr th {\n",
       "        vertical-align: top;\n",
       "    }\n",
       "\n",
       "    .dataframe thead th {\n",
       "        text-align: right;\n",
       "    }\n",
       "</style>\n",
       "<table border=\"1\" class=\"dataframe\">\n",
       "  <thead>\n",
       "    <tr style=\"text-align: right;\">\n",
       "      <th></th>\n",
       "      <th>trip_id</th>\n",
       "      <th>arrival_time</th>\n",
       "      <th>departure_time</th>\n",
       "      <th>stop_id</th>\n",
       "      <th>stop_sequence</th>\n",
       "      <th>pickup_type</th>\n",
       "      <th>drop_off_type</th>\n",
       "    </tr>\n",
       "  </thead>\n",
       "  <tbody>\n",
       "    <tr>\n",
       "      <th>0</th>\n",
       "      <td>112387248235954071</td>\n",
       "      <td>21:07:00</td>\n",
       "      <td>21:07:00</td>\n",
       "      <td>4014</td>\n",
       "      <td>1</td>\n",
       "      <td>0</td>\n",
       "      <td>0</td>\n",
       "    </tr>\n",
       "    <tr>\n",
       "      <th>1</th>\n",
       "      <td>112387248235954071</td>\n",
       "      <td>21:09:00</td>\n",
       "      <td>21:09:00</td>\n",
       "      <td>3231</td>\n",
       "      <td>2</td>\n",
       "      <td>0</td>\n",
       "      <td>0</td>\n",
       "    </tr>\n",
       "  </tbody>\n",
       "</table>\n",
       "</div>"
      ],
      "text/plain": [
       "              trip_id arrival_time departure_time stop_id  stop_sequence  \\\n",
       "0  112387248235954071     21:07:00       21:07:00    4014              1   \n",
       "1  112387248235954071     21:09:00       21:09:00    3231              2   \n",
       "\n",
       "   pickup_type  drop_off_type  \n",
       "0            0              0  \n",
       "1            0              0  "
      ]
     },
     "execution_count": 28,
     "metadata": {},
     "output_type": "execute_result"
    }
   ],
   "source": [
    " stop_time_df.head(2)"
   ]
  },
  {
   "cell_type": "code",
   "execution_count": null,
   "id": "61fc405c",
   "metadata": {},
   "outputs": [],
   "source": [
    "last_stop_id_indexes = list()\n",
    "for trip in set(stop_time_df.trip_id):\n",
    "    last_stop_id_indexes.append(stop_time_df[stop_time_df['trip_id']==trip].index[-1])"
   ]
  },
  {
   "cell_type": "code",
   "execution_count": null,
   "id": "36dfea48",
   "metadata": {},
   "outputs": [],
   "source": [
    "last_stop_id_df = stop_time_df.iloc[last_stop_id_indexes]"
   ]
  },
  {
   "cell_type": "code",
   "execution_count": 4,
   "id": "adda058f",
   "metadata": {},
   "outputs": [],
   "source": [
    "############## final solution ################"
   ]
  },
  {
   "cell_type": "code",
   "execution_count": 5,
   "id": "5edb61f4",
   "metadata": {},
   "outputs": [
    {
     "name": "stdout",
     "output_type": "stream",
     "text": [
      "../output_prob1_task1\\2021-09-06\n",
      "../output_prob1_task1\\2021-09-07\n",
      "../output_prob1_task1\\2021-09-08\n",
      "../output_prob1_task1\\2021-09-09\n"
     ]
    }
   ],
   "source": [
    "#combine all csv file\n",
    "import os\n",
    "import pandas as pd\n",
    "df = pd.DataFrame()\n",
    "main_dir= '../output_prob1_task1'\n",
    "for sub_dir in os.listdir(main_dir):\n",
    "    data_path = os.path.join(main_dir,sub_dir)\n",
    "    print(data_path)\n",
    "    for csv_name in os.listdir(data_path):\n",
    "        csv_path = os.path.join(data_path, csv_name)\n",
    "        csv_df = pd.read_csv(csv_path)\n",
    "        frames = [df,csv_df]\n",
    "        df = pd.concat(frames)"
   ]
  },
  {
   "cell_type": "code",
   "execution_count": 13,
   "id": "161ae1d4",
   "metadata": {},
   "outputs": [],
   "source": [
    "unique_point_id = set(df.pointId)"
   ]
  },
  {
   "cell_type": "code",
   "execution_count": null,
   "id": "1ae305d8",
   "metadata": {},
   "outputs": [],
   "source": [
    "#createing a df of last stopid with tripid using stop_times.txt\n"
   ]
  }
 ],
 "metadata": {
  "kernelspec": {
   "display_name": "venvAI",
   "language": "python",
   "name": "venvai"
  },
  "language_info": {
   "codemirror_mode": {
    "name": "ipython",
    "version": 3
   },
   "file_extension": ".py",
   "mimetype": "text/x-python",
   "name": "python",
   "nbconvert_exporter": "python",
   "pygments_lexer": "ipython3",
   "version": "3.6.8"
  }
 },
 "nbformat": 4,
 "nbformat_minor": 5
}
